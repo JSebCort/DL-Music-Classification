{
 "cells": [
  {
   "cell_type": "code",
   "execution_count": 2,
   "metadata": {},
   "outputs": [
    {
     "name": "stderr",
     "output_type": "stream",
     "text": [
      "Using TensorFlow backend.\n"
     ]
    }
   ],
   "source": [
    "#File name: FullSongTest\n",
    "#Names of all members of the group: James Kaufman, Eamon Kostopulos, \n",
    "#Ahmed Mohammed, Sebastian Cortes, and Jonathan Goral \n",
    "#Project name and description: DL Music Classification - A neural network that classifies music genres\n",
    "#Any special execution instruction: librosa, numpy, pydub, os, pickle, pylab, ffmeg, glob, matplotlib.pyplot\n",
    "#Date: 12/4/18\n",
    "\n",
    "import librosa\n",
    "import librosa.feature\n",
    "import os\n",
    "import numpy as np\n",
    "from keras.models import load_model\n",
    "from keras.models import Sequential\n",
    "from keras.layers.convolutional import Conv2D\n",
    "from keras.layers.convolutional import MaxPooling2D\n",
    "from keras.layers import Dense, Activation, Dropout, Flatten\n",
    "from keras.utils.np_utils import to_categorical\n",
    "from keras.preprocessing import sequence\n",
    "from keras import initializers\n",
    "import pickle\n"
   ]
  },
  {
   "cell_type": "code",
   "execution_count": 4,
   "metadata": {},
   "outputs": [
    {
     "name": "stdout",
     "output_type": "stream",
     "text": [
      "(128, 8189)\n"
     ]
    }
   ],
   "source": [
    "#load in our model and the saved mapping we have\n",
    "model = load_model(\"5genreweights.h5\")\n",
    "with open (\"mapping.pkl\", \"rb\") as f:\n",
    "    newMap = pickle.load(f)\n",
    "\n",
    "#we need to reverse the mapping because it is saved in the format of\n",
    "#GenreName : Output Integer\n",
    "#whereas we want it in the format\n",
    "#Output Integer : GenreName\n",
    "genre_decode = {v: k for k, v in newMap.items()}"
   ]
  },
  {
   "cell_type": "code",
   "execution_count": 6,
   "metadata": {},
   "outputs": [],
   "source": [
    "#this function takes in a song, converts it into a spectrogram, and splits that spectrogram\n",
    "#into 5 second long snippets.\n",
    "def splitFile(filename):\n",
    "        #load in the song and convert it to a spectrogram\n",
    "        song, sr = librosa.load(filename, mono=True, sr = 22050)\n",
    "        mel = librosa.feature.melspectrogram(song, sr)\n",
    "        max_len = 217\n",
    "        #r is how many different snippets we will end up with: it divides the total length\n",
    "        #of the spectrogram by the length that represents a five second snippet\n",
    "        #and then adds one to round up since integer conversions round down.\n",
    "        r = int(mel.shape[1]/max_len) + 1\n",
    "        specs = []\n",
    "        for i in range(r):\n",
    "            temp = mel[:,i*217:(i+1)*217]\n",
    "            #this is neccessary in case the song does not end cleanly, as it will pad\n",
    "            #the last snippet of the song with zeroes.\n",
    "            if (max_len > temp.shape[1]):\n",
    "                pad_width = max_len - temp.shape[1]\n",
    "                temp = np.pad(temp, pad_width=((0, 0), (0, pad_width)), mode='constant')\n",
    "            #reshape this slice to be in a usable format for our neural network\n",
    "            temp= temp.reshape(1,temp.shape[0],temp.shape[1],1)\n",
    "            specs.append(temp)\n",
    "        return specs"
   ]
  },
  {
   "cell_type": "code",
   "execution_count": 13,
   "metadata": {},
   "outputs": [],
   "source": [
    "#This method takes care of guessing what genre a song is if given a list of snippets.\n",
    "#It does so with a voting mechanism - the neural network takes in each snippet and \n",
    "#classifies it as a certain genre.  We store how many votes each genre gets and then \n",
    "#return the genre that had the most votes as the genre that the song will be classified as\n",
    "def guessSong(splitSong):\n",
    "    #creates the dictionary we wil use to store our guesses\n",
    "    guesses = {}\n",
    "    for part in splitSong:\n",
    "        #take the 0th element since predict_proba returns a list with a list inside of it\n",
    "        probs = model.predict_proba(part)[0]\n",
    "        confidence = 0\n",
    "        #predict_proba returns a list of the how confident it would be in classifying\n",
    "        #the snippet as any one of the five genres.  we iterate through all of these\n",
    "        #and pick the maximum confidence it has for any genre\n",
    "        for prob in probs:\n",
    "            if prob > confidence:\n",
    "                confidence = prob\n",
    "        #throw out the vote if it is not more than 50% sure of any genre, because\n",
    "        #the vote is meaningless at that point\n",
    "        if confidence < .5:\n",
    "            x = 1\n",
    "        else:\n",
    "            #get the actual prediction for the genre\n",
    "            guess = model.predict_classes(part)\n",
    "            genre_name = genre_decode[guess[0]]\n",
    "            #update the amount of votes that genre has\n",
    "            if genre_name in guesses:\n",
    "                guesses[genre_name] = guesses[genre_name] + 1\n",
    "            else:\n",
    "                guesses[genre_name] = 1\n",
    "    max_guesses = 0\n",
    "    prediction = \"\"\n",
    "    #get our actual prediction.  go through the entire dictionary of how many votes each\n",
    "    #genre got and find which one got the most, and store the name of that genre in prediction\n",
    "    for key in guesses:\n",
    "        if guesses[key] > max_guesses:\n",
    "            prediction = key\n",
    "            max_guesses = guesses[key]\n",
    "    return prediction"
   ]
  },
  {
   "cell_type": "code",
   "execution_count": 1,
   "metadata": {},
   "outputs": [
    {
     "ename": "NameError",
     "evalue": "name 'os' is not defined",
     "output_type": "error",
     "traceback": [
      "\u001b[0;31m---------------------------------------------------------------------------\u001b[0m",
      "\u001b[0;31mNameError\u001b[0m                                 Traceback (most recent call last)",
      "\u001b[0;32m<ipython-input-1-a2b48204dfb5>\u001b[0m in \u001b[0;36m<module>\u001b[0;34m()\u001b[0m\n\u001b[1;32m      4\u001b[0m \u001b[0;31m#it is overall\u001b[0m\u001b[0;34m\u001b[0m\u001b[0;34m\u001b[0m\u001b[0m\n\u001b[1;32m      5\u001b[0m \u001b[0;34m\u001b[0m\u001b[0m\n\u001b[0;32m----> 6\u001b[0;31m \u001b[0mfolders\u001b[0m \u001b[0;34m=\u001b[0m \u001b[0mos\u001b[0m\u001b[0;34m.\u001b[0m\u001b[0mlistdir\u001b[0m\u001b[0;34m(\u001b[0m\u001b[0;34m\"Database/Test Data/\"\u001b[0m\u001b[0;34m)\u001b[0m\u001b[0;34m\u001b[0m\u001b[0m\n\u001b[0m\u001b[1;32m      7\u001b[0m \u001b[0;34m\u001b[0m\u001b[0m\n\u001b[1;32m      8\u001b[0m \u001b[0moverall_right\u001b[0m \u001b[0;34m=\u001b[0m \u001b[0;36m0\u001b[0m\u001b[0;34m\u001b[0m\u001b[0m\n",
      "\u001b[0;31mNameError\u001b[0m: name 'os' is not defined"
     ]
    }
   ],
   "source": [
    "#This takes care of testing the neural network on a lot of data at once - we have numerous\n",
    "#folders which are all named \"(GenreName)Test\", so it goes into each folder, classifies all\n",
    "#the songs in there, and tracks how accurate it was for that genre as well as how accurate\n",
    "#it is overall\n",
    "\n",
    "folders = os.listdir(\"Database/Test Data/\")\n",
    "\n",
    "overall_right = 0\n",
    "overall_songs = 0\n",
    "wrongGuesses = []\n",
    "\n",
    "for folder in folders:\n",
    "    \n",
    "    files = os.listdir(\"Database/Test Data/\" + folder + \"/\")\n",
    "    numFiles = len(files)\n",
    "    #since each folder is named (GenreName)Test, this removes the word \"Test\" from the folder name\n",
    "    genreName = folder[:-4]\n",
    "    rightGuesses = 0\n",
    "    for filename in files:\n",
    "        #use our methods we already created to guess what genre this song is\n",
    "        split = splitFile(\"Database/Test Data/\" + folder + \"/\" + filename)\n",
    "        prediction = guessSong(split)\n",
    "        \n",
    "        overall_songs = overall_songs+1\n",
    "        #if our prediction for this song matched the genre name from the folder name, we\n",
    "        #were right.  Otherwise store that song name as well as the genre the neural\n",
    "        #network thought it was so we can see all the wrong guesses later.\n",
    "        if prediction == genreName:\n",
    "            rightGuesses = rightGuesses+1\n",
    "            overall_right = overall_right + 1\n",
    "        else:\n",
    "            wrongGuesses.append(\"I thought \" + filename + \" was \" + prediction + \" but its \" + genreName)\n",
    "    accuracy = rightGuesses/numFiles * 100\n",
    "    print(\"The model was \" + str(accuracy) + \"% accurate at classifying \" + genreName + \" songs\")\n",
    "    \n",
    "overall_acc = overall_right/overall_songs\n",
    "print(\"It was \" + str(overall_acc) + \"% accurate in general.\")\n",
    "\n",
    "print(\"Here is what I was wrong about:\")\n",
    "for string in wrongGuesses:\n",
    "    print(string)"
   ]
  },
  {
   "cell_type": "code",
   "execution_count": 2,
   "metadata": {},
   "outputs": [
    {
     "ename": "NameError",
     "evalue": "name 'wrongGuesses' is not defined",
     "output_type": "error",
     "traceback": [
      "\u001b[0;31m---------------------------------------------------------------------------\u001b[0m",
      "\u001b[0;31mNameError\u001b[0m                                 Traceback (most recent call last)",
      "\u001b[0;32m<ipython-input-2-728fee27073e>\u001b[0m in \u001b[0;36m<module>\u001b[0;34m()\u001b[0m\n\u001b[0;32m----> 1\u001b[0;31m \u001b[0;32mfor\u001b[0m \u001b[0mstring\u001b[0m \u001b[0;32min\u001b[0m \u001b[0mwrongGuesses\u001b[0m\u001b[0;34m:\u001b[0m\u001b[0;34m\u001b[0m\u001b[0m\n\u001b[0m\u001b[1;32m      2\u001b[0m     \u001b[0mprint\u001b[0m\u001b[0;34m(\u001b[0m\u001b[0mstring\u001b[0m\u001b[0;34m)\u001b[0m\u001b[0;34m\u001b[0m\u001b[0m\n",
      "\u001b[0;31mNameError\u001b[0m: name 'wrongGuesses' is not defined"
     ]
    }
   ],
   "source": [
    "#print out every wrong guess that we had so we can see what the network is struggling with\n",
    "for string in wrongGuesses:\n",
    "    print(string)"
   ]
  },
  {
   "cell_type": "code",
   "execution_count": null,
   "metadata": {},
   "outputs": [],
   "source": []
  }
 ],
 "metadata": {
  "kernelspec": {
   "display_name": "Python 3",
   "language": "python",
   "name": "python3"
  },
  "language_info": {
   "codemirror_mode": {
    "name": "ipython",
    "version": 3
   },
   "file_extension": ".py",
   "mimetype": "text/x-python",
   "name": "python",
   "nbconvert_exporter": "python",
   "pygments_lexer": "ipython3",
   "version": "3.6.5"
  }
 },
 "nbformat": 4,
 "nbformat_minor": 2
}
