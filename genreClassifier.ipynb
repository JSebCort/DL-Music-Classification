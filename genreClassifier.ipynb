{
 "cells": [
  {
   "cell_type": "code",
   "execution_count": 1,
   "metadata": {},
   "outputs": [
    {
     "name": "stderr",
     "output_type": "stream",
     "text": [
      "C:\\Users\\ahmed\\Anaconda3\\lib\\site-packages\\h5py\\__init__.py:36: FutureWarning: Conversion of the second argument of issubdtype from `float` to `np.floating` is deprecated. In future, it will be treated as `np.float64 == np.dtype(float).type`.\n",
      "  from ._conv import register_converters as _register_converters\n",
      "Using TensorFlow backend.\n"
     ]
    }
   ],
   "source": [
    "import librosa\n",
    "import librosa.feature\n",
    "import librosa.display\n",
    "import glob\n",
    "import numpy as np\n",
    "import matplotlib.pyplot as plt\n",
    "from keras.models import Sequential\n",
    "from keras.layers import Dense, Activation\n",
    "from keras.utils.np_utils import to_categorical\n",
    "import ffmpeg\n",
    "import os\n",
    "\n",
    "def extract_features_song(f):\n",
    "    y, _ = librosa.load(f,duration=5.0)\n",
    "    # get Mel-frequency cepstral coefficients\n",
    "    mfcc = librosa.feature.mfcc(y)\n",
    "    # normalize values between -1,1 (divide by max)\n",
    "    mfcc /= np.amax(np.absolute(mfcc))\n",
    "    return np.ndarray.flatten(mfcc)[:25000]\n",
    "\n",
    "def generate_features_and_labels():\n",
    "    all_features = []\n",
    "    all_labels = []\n",
    "    genres = ['classical','Electro','folk','post-hardcore','rap']\n",
    "    for genre in genres:\n",
    "        sound_files = glob.glob('songs/'+genre+'/*.mp3')\n",
    "        print('Processing %d songs in %s genre...' % (len(sound_files), genre))\n",
    "        for f in sound_files:\n",
    "            features = extract_features_song(f)\n",
    "            all_features.append(features)\n",
    "            all_labels.append(genre)\n",
    "    # convert labels to one-hot encoding\n",
    "    label_uniq_ids, label_row_ids = np.unique(all_labels, return_inverse=True)\n",
    "    label_row_ids = label_row_ids.astype(np.int32, copy=False)\n",
    "    onehot_labels = to_categorical(label_row_ids, len(label_uniq_ids))\n",
    "    return np.stack(all_features), onehot_labels"
   ]
  },
  {
   "cell_type": "code",
   "execution_count": 2,
   "metadata": {},
   "outputs": [
    {
     "name": "stdout",
     "output_type": "stream",
     "text": [
      "Processing 14 songs in classical genre...\n",
      "Processing 30 songs in Electro genre...\n",
      "Processing 11 songs in folk genre...\n",
      "Processing 30 songs in post-hardcore genre...\n",
      "Processing 25 songs in rap genre...\n"
     ]
    }
   ],
   "source": [
    "features, labels = generate_features_and_labels()"
   ]
  },
  {
   "cell_type": "code",
   "execution_count": 3,
   "metadata": {},
   "outputs": [
    {
     "name": "stdout",
     "output_type": "stream",
     "text": [
      "(110, 4320)\n",
      "(110, 5)\n",
      "(88, 4325)\n",
      "(22, 4325)\n",
      "(88, 4315)\n",
      "(88, 10)\n"
     ]
    }
   ],
   "source": [
    "print(np.shape(features))\n",
    "print(np.shape(labels))\n",
    "\n",
    "training_split = 0.8\n",
    "\n",
    "# last column has genre, turn it into unique ids\n",
    "alldata = np.column_stack((features, labels))\n",
    "\n",
    "np.random.shuffle(alldata)\n",
    "splitidx = int(len(alldata) * training_split)\n",
    "train, test = alldata[:splitidx,:], alldata[splitidx:,:]\n",
    "\n",
    "print(np.shape(train))\n",
    "print(np.shape(test))\n",
    "\n",
    "train_input = train[:,:-10]\n",
    "train_labels = train[:,-10:]\n",
    "\n",
    "test_input = test[:,:-10]\n",
    "test_labels = test[:,-10:]\n",
    "\n",
    "print(np.shape(train_input))\n",
    "print(np.shape(train_labels))"
   ]
  },
  {
   "cell_type": "code",
   "execution_count": 4,
   "metadata": {},
   "outputs": [
    {
     "name": "stdout",
     "output_type": "stream",
     "text": [
      "_________________________________________________________________\n",
      "Layer (type)                 Output Shape              Param #   \n",
      "=================================================================\n",
      "dense_1 (Dense)              (None, 100)               431600    \n",
      "_________________________________________________________________\n",
      "activation_1 (Activation)    (None, 100)               0         \n",
      "_________________________________________________________________\n",
      "dense_2 (Dense)              (None, 10)                1010      \n",
      "_________________________________________________________________\n",
      "activation_2 (Activation)    (None, 10)                0         \n",
      "=================================================================\n",
      "Total params: 432,610\n",
      "Trainable params: 432,610\n",
      "Non-trainable params: 0\n",
      "_________________________________________________________________\n",
      "None\n",
      "Train on 70 samples, validate on 18 samples\n",
      "Epoch 1/10\n",
      "70/70 [==============================] - 0s 4ms/step - loss: 2.1816 - acc: 0.2429 - val_loss: 1.9391 - val_acc: 0.3333\n",
      "Epoch 2/10\n",
      "70/70 [==============================] - 0s 450us/step - loss: 1.6210 - acc: 0.4857 - val_loss: 1.8756 - val_acc: 0.3333\n",
      "Epoch 3/10\n",
      "70/70 [==============================] - 0s 558us/step - loss: 1.3208 - acc: 0.5714 - val_loss: 1.7364 - val_acc: 0.3889\n",
      "Epoch 4/10\n",
      "70/70 [==============================] - 0s 584us/step - loss: 1.0928 - acc: 0.7143 - val_loss: 1.6030 - val_acc: 0.4444\n",
      "Epoch 5/10\n",
      "70/70 [==============================] - 0s 596us/step - loss: 0.9389 - acc: 0.7143 - val_loss: 1.4137 - val_acc: 0.3889\n",
      "Epoch 6/10\n",
      "70/70 [==============================] - 0s 661us/step - loss: 0.8029 - acc: 0.7571 - val_loss: 1.2530 - val_acc: 0.3889\n",
      "Epoch 7/10\n",
      "70/70 [==============================] - ETA: 0s - loss: 0.8420 - acc: 0.593 - 0s 604us/step - loss: 0.7249 - acc: 0.7286 - val_loss: 1.0375 - val_acc: 0.4444\n",
      "Epoch 8/10\n",
      "70/70 [==============================] - 0s 580us/step - loss: 0.6017 - acc: 0.8143 - val_loss: 0.9134 - val_acc: 0.5000\n",
      "Epoch 9/10\n",
      "70/70 [==============================] - 0s 634us/step - loss: 0.5356 - acc: 0.8857 - val_loss: 0.8429 - val_acc: 0.5000\n",
      "Epoch 10/10\n",
      "70/70 [==============================] - 0s 834us/step - loss: 0.4708 - acc: 0.8571 - val_loss: 0.8224 - val_acc: 0.5000\n",
      "22/22 [==============================] - 0s 332us/step\n",
      "Done!\n",
      "Loss: 1.4003, accuracy: 0.4091\n"
     ]
    }
   ],
   "source": [
    "model = Sequential([\n",
    "    Dense(100, input_dim=np.shape(train_input)[1]),\n",
    "    Activation('relu'),\n",
    "    Dense(10),\n",
    "    Activation('softmax'),\n",
    "    ])\n",
    "\n",
    "model.compile(optimizer='adam',\n",
    "              loss='categorical_crossentropy',\n",
    "              metrics=['accuracy'])\n",
    "print(model.summary())\n",
    "\n",
    "model.fit(train_input, train_labels, epochs=10, batch_size=32,\n",
    "          validation_split=0.2)\n",
    "\n",
    "loss, acc = model.evaluate(test_input, test_labels, batch_size=32)\n",
    "\n",
    "print(\"Done!\")\n",
    "print(\"Loss: %.4f, accuracy: %.4f\" % (loss, acc))"
   ]
  },
  {
   "cell_type": "code",
   "execution_count": null,
   "metadata": {},
   "outputs": [],
   "source": []
  }
 ],
 "metadata": {
  "kernelspec": {
   "display_name": "Python 3",
   "language": "python",
   "name": "python3"
  },
  "language_info": {
   "codemirror_mode": {
    "name": "ipython",
    "version": 3
   },
   "file_extension": ".py",
   "mimetype": "text/x-python",
   "name": "python",
   "nbconvert_exporter": "python",
   "pygments_lexer": "ipython3",
   "version": "3.6.5"
  }
 },
 "nbformat": 4,
 "nbformat_minor": 2
}
