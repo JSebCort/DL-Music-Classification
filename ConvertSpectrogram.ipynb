{
 "cells": [
  {
   "cell_type": "code",
   "execution_count": 1,
   "metadata": {
    "collapsed": true
   },
   "outputs": [],
   "source": [
    "#File name: ConvertSpectrogram\n",
    "#Names: Sebastian Cortes, Jon Gorel, Eamon Kostopulos, James Kaufman, Youssef Mohamed\n",
    "#Project Name: DL-Music-Classification\n",
    "#Project Description: Create deep learning model to classify the genre of a song file\n",
    "#Libraries to install: Librosa, Matploblib, NumPy\n",
    "#Date: December 4, 2018\n",
    "\n",
    "import librosa\n",
    "import numpy as np\n",
    "import librosa.feature\n",
    "import librosa.display\n",
    "import os\n",
    "import pickle\n",
    "import pylab\n",
    "import matplotlib.pyplot as plt"
   ]
  },
  {
   "cell_type": "code",
   "execution_count": 2,
   "metadata": {
    "collapsed": true
   },
   "outputs": [],
   "source": [
    "#load_data()\n",
    "#Purpose: Converts an MFCC graph to a MelSpectogram\n",
    "def load_data():\n",
    "    max_len = 217\n",
    "    folders = os.listdir(\"Database/Sorted Data Snippets\")\n",
    "    #Goes through each data snippets folder\n",
    "    for folder in folders:\n",
    "        specVec = []\n",
    "        folder_path = \"Database/Sorted Data Snippets/\" + folder\n",
    "        files = os.listdir(folder_path)\n",
    "        count = 1\n",
    "        #Converts every file within the data snippets folders to MelSpectogram\n",
    "        for file in files:\n",
    "            #print(\"Converting \" + file + \" to spectrogram\")\n",
    "            #print(\"This is file \" + str(count) + \" in this directory\")\n",
    "            song, _ = librosa.load(folder_path + \"/\" + file, mono=True, sr = 22050)\n",
    "            spec = librosa.feature.melspectrogram(song, sr = 22050)\n",
    "            #If maximum length exceeds MFCC lengths then pad the remaining ones\n",
    "            if (max_len > spec.shape[1]):\n",
    "                pad_width = max_len - spec.shape[1]\n",
    "                spec = np.pad(spec, pad_width=((0, 0), (0, pad_width)), mode='constant')\n",
    "\n",
    "            #Else cutoff the remaining parts\n",
    "            else:\n",
    "                spec = spec[:, :max_len]\n",
    "                        \n",
    "            specVec.append(spec)\n",
    "            count = count + 1\n",
    "        with open(folder + \".pkl\", 'wb') as f:\n",
    "            pickle.dump(specVec, f)\n",
    "        print(\"Saved pickle file for \" + folder + \".\")\n"
   ]
  },
  {
   "cell_type": "code",
   "execution_count": null,
   "metadata": {
    "collapsed": true
   },
   "outputs": [],
   "source": [
    "load_data()"
   ]
  },
  {
   "cell_type": "code",
   "execution_count": null,
   "metadata": {
    "collapsed": true
   },
   "outputs": [],
   "source": [
    "import pickle"
   ]
  },
  {
   "cell_type": "code",
   "execution_count": 15,
   "metadata": {
    "collapsed": true
   },
   "outputs": [],
   "source": [
    "with open('xtraindata.pkl', 'wb') as f:\n",
    "    pickle.dump(xtrain, f)"
   ]
  },
  {
   "cell_type": "code",
   "execution_count": 16,
   "metadata": {
    "collapsed": true
   },
   "outputs": [],
   "source": [
    "with open('ytraindata.pkl', 'wb') as f:\n",
    "    pickle.dump(ytrain, f)"
   ]
  },
  {
   "cell_type": "code",
   "execution_count": 17,
   "metadata": {
    "collapsed": true
   },
   "outputs": [],
   "source": [
    "with open('xtestdata.pkl', 'wb') as f:\n",
    "    pickle.dump(xtest, f)"
   ]
  },
  {
   "cell_type": "code",
   "execution_count": 18,
   "metadata": {
    "collapsed": true
   },
   "outputs": [],
   "source": [
    "with open('ytestdata.pkl', 'wb') as f:\n",
    "    pickle.dump(ytest, f)"
   ]
  },
  {
   "cell_type": "code",
   "execution_count": null,
   "metadata": {
    "collapsed": true
   },
   "outputs": [],
   "source": [
    "with open('xtraindata.pkl')"
   ]
  }
 ],
 "metadata": {
  "kernelspec": {
   "display_name": "Python 3",
   "language": "python",
   "name": "python3"
  },
  "language_info": {
   "codemirror_mode": {
    "name": "ipython",
    "version": 3
   },
   "file_extension": ".py",
   "mimetype": "text/x-python",
   "name": "python",
   "nbconvert_exporter": "python",
   "pygments_lexer": "ipython3",
   "version": "3.6.3"
  }
 },
 "nbformat": 4,
 "nbformat_minor": 2
}
